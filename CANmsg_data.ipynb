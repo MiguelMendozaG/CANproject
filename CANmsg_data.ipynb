{
  "nbformat": 4,
  "nbformat_minor": 0,
  "metadata": {
    "accelerator": "GPU",
    "colab": {
      "name": "CANmsg_data.ipynb",
      "provenance": [],
      "collapsed_sections": [],
      "authorship_tag": "ABX9TyON4Wjq5U9XHukLrBSs/v0K",
      "include_colab_link": true
    },
    "kernelspec": {
      "display_name": "Python 3",
      "name": "python3"
    }
  },
  "cells": [
    {
      "cell_type": "markdown",
      "metadata": {
        "id": "view-in-github",
        "colab_type": "text"
      },
      "source": [
        "<a href=\"https://colab.research.google.com/github/MiguelMendozaG/CANproject/blob/CANmsgs2Dataset/CANmsg_data.ipynb\" target=\"_parent\"><img src=\"https://colab.research.google.com/assets/colab-badge.svg\" alt=\"Open In Colab\"/></a>"
      ]
    },
    {
      "cell_type": "code",
      "metadata": {
        "id": "dX9BUQ4aiqjq"
      },
      "source": [
        "import argparse\n",
        "import numpy as np\n",
        "from sklearn import preprocessing\n",
        "from sklearn.preprocessing import StandardScaler"
      ],
      "execution_count": null,
      "outputs": []
    },
    {
      "cell_type": "code",
      "metadata": {
        "colab": {
          "base_uri": "https://localhost:8080/"
        },
        "id": "ep9naTOHiyxA",
        "outputId": "48dd956d-2277-4626-8784-b19ddf194469"
      },
      "source": [
        "from google.colab import drive\n",
        "drive.mount('/content/gdrive/')\n",
        "model_dir = '/content/gdrive/My Drive/'"
      ],
      "execution_count": null,
      "outputs": [
        {
          "output_type": "stream",
          "text": [
            "Mounted at /content/gdrive/\n"
          ],
          "name": "stdout"
        }
      ]
    },
    {
      "cell_type": "code",
      "metadata": {
        "id": "xoR0lAUrjAWQ"
      },
      "source": [
        "car_model = \"Colab Notebooks/Car\"\n",
        "#input_file = model_dir + car_model + \"/viaje_real_1_MM.log\"\n",
        "input_file = model_dir + car_model + \"/viaje_real_1_MM.log\"\n",
        "output_file = model_dir + car_model + \"viaje_real_1_MM_5seg\"\n",
        "#CAN_MSG = '0E2,0E6,0EE,116,0FA,0F2'\n",
        "CAN_MSG = '0E6'\n",
        "CAN_MSG_txt = CAN_MSG\n",
        "CAN_MSG = list(CAN_MSG.split(\",\"))\n",
        "X = []\n",
        "max_size = 500"
      ],
      "execution_count": null,
      "outputs": []
    },
    {
      "cell_type": "code",
      "metadata": {
        "id": "mGz3lYgVjWe7"
      },
      "source": [
        "def temporalize(X, y, lookback):\n",
        "    output_X = []\n",
        "    output_y = []\n",
        "    for i in range(len(X)-lookback-1):\n",
        "        t = []\n",
        "        for j in range(0,lookback):\n",
        "            # Gather past records upto the lookback period\n",
        "            t.append(X[[(i+j)], :])\n",
        "        output_X.append(t)\n",
        "        output_y.append(y[i+lookback])\n",
        "    return output_X, output_y\n"
      ],
      "execution_count": null,
      "outputs": []
    },
    {
      "cell_type": "code",
      "metadata": {
        "id": "jcbQpP_yjW6E"
      },
      "source": [
        "def AppendCANMessages(msg):\n",
        "\tX = []\n",
        "\tmax_size = 100\n",
        "\tcount_msg = 0\n",
        "\twith open(output_file + str(msg) + \".txt\", \"w\") as exit_file:\n",
        "\t\twith open(input_file, \"r\") as file:\n",
        "\t\t\tlines = file.readlines()\n",
        "\t\t\t#if msg in CAN_MSG:\n",
        "\t\t\t#print(msg)\n",
        "\t\t\tfor line in lines:\n",
        "\t\t\t\tline_sep = line.split(\" \")\n",
        "\t\t\t\tline_CAN = line_sep[2].split(\"#\")\n",
        "\t\t\t\t#print(line_CAN[0])\n",
        "\t\t\t\tif (line_CAN[0] == msg):\n",
        "\t\t\t\t\t#print(int((line_CAN[1]),16))\n",
        "\t\t\t\t\texit_file.write(str(int((line_CAN[1]),16)) + '\\n')\n",
        "\t\t\t\t\t#exit_file.write(str(line_CAN[1]))\n",
        "\t\t\t\t\tX.append(int((line_CAN[1]),16))\n",
        "\t\t\t\t\tif (count_msg < (max_size - 1)):\t\n",
        "\t\t\t\t\t\tcount_msg = count_msg + 1\n",
        "\t\t\t\t\telse:\n",
        "\t\t\t\t\t\tcount_msg = 0\n",
        "\t\t\t\t\t\texit_file.write(str('\\n'))\n",
        "\t\t\tfile.close()\n",
        "\t\t\tX = np.array([X], np.uint64)\n",
        "\t\t\tX = X.transpose()\n",
        "\t\t\ttimesteps = X.shape[0]\n",
        "\t\t\tn_features = X.shape[1]\n",
        "\t\t\t#print (\"X.shape\", X.shape)\n",
        "\t\t\t#print (\"timesteps\", timesteps)\n",
        "\t\t\t#print (\"n_features \", n_features)\n",
        "\t\texit_file.close()\n",
        "\treturn X"
      ],
      "execution_count": null,
      "outputs": []
    },
    {
      "cell_type": "code",
      "metadata": {
        "id": "SJ3LLFF1gmaO"
      },
      "source": [
        "X_1 = AppendCANMessages(CAN_MSG[0])\n",
        "#X_2 = AppendCANMessages(CAN_MSG[1])\n",
        "#X_3 = AppendCANMessages(CAN_MSG[2])\n",
        "#X_4 = AppendCANMessages(CAN_MSG[3])\n",
        "#X_5 = AppendCANMessages(CAN_MSG[4])\n",
        "#X_6 = AppendCANMessages(CAN_MSG[5])\n",
        "#X_Complete = np.concatenate((X_1[0:X_5.shape[0]], X_2[0:X_5.shape[0]], X_3[0:X_5.shape[0]],\n",
        "#                             X_4[0:X_5.shape[0]], X_5, X_6[0:X_5.shape[0]]), axis = 1)\n",
        "\n",
        "X_Complete = X_1"
      ],
      "execution_count": null,
      "outputs": []
    },
    {
      "cell_type": "code",
      "metadata": {
        "colab": {
          "base_uri": "https://localhost:8080/"
        },
        "id": "dSqJDfEQlI3F",
        "outputId": "2543217e-7b26-44b3-eb91-70d8dc26a502"
      },
      "source": [
        "print(X_Complete.shape)\n",
        "print(X_Complete[0:10])"
      ],
      "execution_count": null,
      "outputs": [
        {
          "output_type": "stream",
          "text": [
            "(217600, 1)\n",
            "[[4765452582132908032]\n",
            " [4765452582132908032]\n",
            " [4765452582132908032]\n",
            " [4720416585859203072]\n",
            " [4720416585859203072]\n",
            " [4720416585859203072]\n",
            " [4666373390330757120]\n",
            " [4666373390330757120]\n",
            " [4666373390330757120]\n",
            " [4666373390330757120]]\n"
          ],
          "name": "stdout"
        }
      ]
    },
    {
      "cell_type": "code",
      "metadata": {
        "id": "G7mnfiIcjc7q"
      },
      "source": [
        "timeseries = X_Complete\n",
        "timesteps = max_size\n",
        "X, y = temporalize(X = timeseries, y = np.zeros(len(timeseries)), lookback = timesteps)"
      ],
      "execution_count": null,
      "outputs": []
    },
    {
      "cell_type": "code",
      "metadata": {
        "id": "ueKVB3OGks2a"
      },
      "source": [
        "X = np.array(X)\n",
        "print (X.shape)"
      ],
      "execution_count": null,
      "outputs": []
    },
    {
      "cell_type": "code",
      "metadata": {
        "id": "c6WM9ViD1_ou"
      },
      "source": [
        "print (X[0,1,0,:])\n",
        "print (X[1,0,0,:])"
      ],
      "execution_count": null,
      "outputs": []
    },
    {
      "cell_type": "code",
      "metadata": {
        "id": "XMOvCJ6nksIH"
      },
      "source": [
        "#np.save(model_dir + car_model + '/recorrido_1.npy', X)\r\n",
        "np.save(model_dir + car_model + '/viaje_real_1_MM_5seg.npy', X)"
      ],
      "execution_count": null,
      "outputs": []
    },
    {
      "cell_type": "code",
      "metadata": {
        "id": "hrMgQdw04D-e"
      },
      "source": [
        ""
      ],
      "execution_count": null,
      "outputs": []
    }
  ]
}